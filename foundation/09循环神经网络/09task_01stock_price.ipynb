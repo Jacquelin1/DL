{
 "cells": [
  {
   "cell_type": "markdown",
   "metadata": {},
   "source": [
    "### 任务：基于zgpa_train.csv数据，建立RNN模型，预测股价：\n",
    "#### 1.完成数据预处理，将序列数据转化为可用于RNN输入的数据\n",
    "#### 2.对新数据zgpa_test.csv进行预测，可视化结果\n",
    "#### 3.存储预测结果，并观察局部预测结果\n",
    "#### 备注：模型结构：单层RNN，输出有5个神经元；每次使用前8个数据预测第9个数据"
   ]
  },
  {
   "cell_type": "code",
   "execution_count": 1,
   "metadata": {},
   "outputs": [
    {
     "data": {
      "text/html": [
       "<div>\n",
       "<style scoped>\n",
       "    .dataframe tbody tr th:only-of-type {\n",
       "        vertical-align: middle;\n",
       "    }\n",
       "\n",
       "    .dataframe tbody tr th {\n",
       "        vertical-align: top;\n",
       "    }\n",
       "\n",
       "    .dataframe thead th {\n",
       "        text-align: right;\n",
       "    }\n",
       "</style>\n",
       "<table border=\"1\" class=\"dataframe\">\n",
       "  <thead>\n",
       "    <tr style=\"text-align: right;\">\n",
       "      <th></th>\n",
       "      <th>date</th>\n",
       "      <th>open</th>\n",
       "      <th>high</th>\n",
       "      <th>low</th>\n",
       "      <th>close</th>\n",
       "      <th>volume</th>\n",
       "    </tr>\n",
       "  </thead>\n",
       "  <tbody>\n",
       "    <tr>\n",
       "      <th>0</th>\n",
       "      <td>2016-01-04</td>\n",
       "      <td>30.57</td>\n",
       "      <td>30.57</td>\n",
       "      <td>28.63</td>\n",
       "      <td>28.78</td>\n",
       "      <td>70997200</td>\n",
       "    </tr>\n",
       "    <tr>\n",
       "      <th>1</th>\n",
       "      <td>2016-01-05</td>\n",
       "      <td>28.41</td>\n",
       "      <td>29.54</td>\n",
       "      <td>28.23</td>\n",
       "      <td>29.23</td>\n",
       "      <td>87498504</td>\n",
       "    </tr>\n",
       "    <tr>\n",
       "      <th>2</th>\n",
       "      <td>2016-01-06</td>\n",
       "      <td>29.03</td>\n",
       "      <td>29.39</td>\n",
       "      <td>28.73</td>\n",
       "      <td>29.26</td>\n",
       "      <td>48012112</td>\n",
       "    </tr>\n",
       "    <tr>\n",
       "      <th>3</th>\n",
       "      <td>2016-01-07</td>\n",
       "      <td>28.73</td>\n",
       "      <td>29.25</td>\n",
       "      <td>27.73</td>\n",
       "      <td>28.50</td>\n",
       "      <td>23647604</td>\n",
       "    </tr>\n",
       "    <tr>\n",
       "      <th>4</th>\n",
       "      <td>2016-01-08</td>\n",
       "      <td>28.73</td>\n",
       "      <td>29.18</td>\n",
       "      <td>27.63</td>\n",
       "      <td>28.67</td>\n",
       "      <td>98239664</td>\n",
       "    </tr>\n",
       "  </tbody>\n",
       "</table>\n",
       "</div>"
      ],
      "text/plain": [
       "         date   open   high    low  close    volume\n",
       "0  2016-01-04  30.57  30.57  28.63  28.78  70997200\n",
       "1  2016-01-05  28.41  29.54  28.23  29.23  87498504\n",
       "2  2016-01-06  29.03  29.39  28.73  29.26  48012112\n",
       "3  2016-01-07  28.73  29.25  27.73  28.50  23647604\n",
       "4  2016-01-08  28.73  29.18  27.63  28.67  98239664"
      ]
     },
     "execution_count": 1,
     "metadata": {},
     "output_type": "execute_result"
    }
   ],
   "source": [
    "import pandas as pd\n",
    "import numpy as np\n",
    "data = pd.read_csv('zgpa_train.csv')\n",
    "data.head()"
   ]
  },
  {
   "cell_type": "code",
   "execution_count": 2,
   "metadata": {},
   "outputs": [
    {
     "name": "stdout",
     "output_type": "stream",
     "text": [
      "0      0.383273\n",
      "1      0.389266\n",
      "2      0.389666\n",
      "3      0.379545\n",
      "4      0.381808\n",
      "         ...   \n",
      "726    0.751099\n",
      "727    0.750566\n",
      "728    0.738447\n",
      "729    0.733120\n",
      "730    0.722466\n",
      "Name: close, Length: 731, dtype: float64\n"
     ]
    }
   ],
   "source": [
    "#归一化处理\n",
    "price = data.loc[:,'close']\n",
    "price.head()\n",
    "price_norm = price/max(price)\n",
    "print(price_norm)"
   ]
  },
  {
   "cell_type": "code",
   "execution_count": 3,
   "metadata": {},
   "outputs": [
    {
     "data": {
      "text/html": [
       "<div>\n",
       "<style scoped>\n",
       "    .dataframe tbody tr th:only-of-type {\n",
       "        vertical-align: middle;\n",
       "    }\n",
       "\n",
       "    .dataframe tbody tr th {\n",
       "        vertical-align: top;\n",
       "    }\n",
       "\n",
       "    .dataframe thead th {\n",
       "        text-align: right;\n",
       "    }\n",
       "</style>\n",
       "<table border=\"1\" class=\"dataframe\">\n",
       "  <thead>\n",
       "    <tr style=\"text-align: right;\">\n",
       "      <th></th>\n",
       "      <th>close</th>\n",
       "    </tr>\n",
       "  </thead>\n",
       "  <tbody>\n",
       "    <tr>\n",
       "      <th>0</th>\n",
       "      <td>3310.10</td>\n",
       "    </tr>\n",
       "    <tr>\n",
       "      <th>1</th>\n",
       "      <td>3346.97</td>\n",
       "    </tr>\n",
       "    <tr>\n",
       "      <th>2</th>\n",
       "      <td>3339.90</td>\n",
       "    </tr>\n",
       "    <tr>\n",
       "      <th>3</th>\n",
       "      <td>3347.30</td>\n",
       "    </tr>\n",
       "    <tr>\n",
       "      <th>4</th>\n",
       "      <td>3363.09</td>\n",
       "    </tr>\n",
       "  </tbody>\n",
       "</table>\n",
       "</div>"
      ],
      "text/plain": [
       "     close\n",
       "0  3310.10\n",
       "1  3346.97\n",
       "2  3339.90\n",
       "3  3347.30\n",
       "4  3363.09"
      ]
     },
     "execution_count": 3,
     "metadata": {},
     "output_type": "execute_result"
    }
   ],
   "source": [
    "import pandas as pd\n",
    "import numpy as np\n",
    "data = pd.read_csv('szzs30day.csv')\n",
    "data.head()\n"
   ]
  },
  {
   "cell_type": "code",
   "execution_count": 4,
   "metadata": {},
   "outputs": [
    {
     "data": {
      "text/plain": [
       "75.09"
      ]
     },
     "execution_count": 4,
     "metadata": {},
     "output_type": "execute_result"
    }
   ],
   "source": [
    "max(price)"
   ]
  },
  {
   "cell_type": "code",
   "execution_count": 5,
   "metadata": {},
   "outputs": [
    {
     "name": "stdout",
     "output_type": "stream",
     "text": [
      "0     0.958910\n",
      "1     0.969591\n",
      "2     0.967543\n",
      "3     0.969687\n",
      "4     0.974261\n",
      "5     0.978502\n",
      "6     0.989151\n",
      "7     0.985770\n",
      "8     0.974041\n",
      "9     0.976184\n",
      "10    0.987361\n",
      "11    0.982566\n",
      "12    1.000000\n",
      "13    0.999258\n",
      "14    0.997161\n",
      "15    0.997868\n",
      "16    0.989762\n",
      "17    0.987902\n",
      "18    0.976830\n",
      "19    0.977213\n",
      "20    0.969655\n",
      "21    0.976008\n",
      "22    0.975460\n",
      "23    0.975388\n",
      "24    0.986364\n",
      "25    0.983476\n",
      "26    0.990912\n",
      "27    0.972433\n",
      "28    0.979832\n",
      "29    0.974267\n",
      "30    0.983957\n",
      "31    0.984168\n",
      "Name: close, dtype: float64\n"
     ]
    }
   ],
   "source": [
    "price = data.loc[:,'close']\n",
    "price.head()\n",
    "price_norm = price/max(price)\n",
    "print(price_norm)"
   ]
  },
  {
   "cell_type": "code",
   "execution_count": 6,
   "metadata": {},
   "outputs": [
    {
     "data": {
      "image/png": "[encoded data removed]",
      "text/plain": [
       "<Figure size 576x360 with 1 Axes>"
      ]
     },
     "metadata": {},
     "output_type": "display_data"
    }
   ],
   "source": [
    "%matplotlib inline\n",
    "from matplotlib import pyplot as plt\n",
    "fig1 = plt.figure(figsize=(8,5))\n",
    "plt.plot(price)\n",
    "plt.title('close price')\n",
    "plt.xlabel('time')\n",
    "plt.ylabel('price')\n",
    "plt.show()"
   ]
  },
  {
   "cell_type": "code",
   "execution_count": 7,
   "metadata": {},
   "outputs": [],
   "source": [
    "#定义X与y\n",
    "def extract_data(data,time_step):\n",
    "    X=[]\n",
    "    y=[]\n",
    "    for i in range(len(data)-time_step):\n",
    "        X.append([a for a in data[i:i+time_step]])\n",
    "        y.append(data[i+time_step])\n",
    "    X=np.array(X)\n",
    "    X=X.reshape(X.shape[0],X.shape[1],1)\n",
    "    return X,y\n"
   ]
  },
  {
   "cell_type": "code",
   "execution_count": 8,
   "metadata": {},
   "outputs": [
    {
     "name": "stdout",
     "output_type": "stream",
     "text": [
      "(27, 5, 1)\n",
      "[[0.95891006]\n",
      " [0.96959101]\n",
      " [0.96754289]\n",
      " [0.96968661]\n",
      " [0.97426085]]\n",
      "[0.9785019438344815, 0.9891510281175222, 0.9857703204574819, 0.9740406843687897, 0.9761844064497065, 0.9873607304877836, 0.9825663250230305, 1.0, 0.9992583880368721, 0.9971610167036506, 0.997867865606007, 0.9897622786027567, 0.9879024548514748, 0.9768304199957125, 0.9772128136642004, 0.9696547448681031, 0.9760076942241174, 0.9754601760169643, 0.9753877529736902, 0.9863641894123304, 0.9834759584465547, 0.9909123565299514, 0.9724328928081022, 0.9798316309089962, 0.9742666442638053, 0.9839568474538954, 0.9841683227402562]\n"
     ]
    }
   ],
   "source": [
    "time_step=5\n",
    "X,y=extract_data(price_norm,time_step)\n",
    "print(X.shape)\n",
    "print(X[0,:,:])\n",
    "print(y)\n"
   ]
  },
  {
   "cell_type": "code",
   "execution_count": 9,
   "metadata": {},
   "outputs": [
    {
     "name": "stderr",
     "output_type": "stream",
     "text": [
      "C:\\Users\\pactera\\Anaconda3\\lib\\site-packages\\h5py\\__init__.py:36: FutureWarning: Conversion of the second argument of issubdtype from `float` to `np.floating` is deprecated. In future, it will be treated as `np.float64 == np.dtype(float).type`.\n",
      "  from ._conv import register_converters as _register_converters\n",
      "Using TensorFlow backend.\n"
     ]
    },
    {
     "name": "stdout",
     "output_type": "stream",
     "text": [
      "Model: \"sequential_1\"\n",
      "_________________________________________________________________\n",
      "Layer (type)                 Output Shape              Param #   \n",
      "=================================================================\n",
      "simple_rnn_1 (SimpleRNN)     (None, 5)                 35        \n",
      "_________________________________________________________________\n",
      "dense_1 (Dense)              (None, 1)                 6         \n",
      "=================================================================\n",
      "Total params: 41\n",
      "Trainable params: 41\n",
      "Non-trainable params: 0\n",
      "_________________________________________________________________\n"
     ]
    }
   ],
   "source": [
    "from keras.models import Sequential\n",
    "from keras.layers import Dense,SimpleRNN\n",
    "\n",
    "model=Sequential()\n",
    "# RNN layer\n",
    "model.add(SimpleRNN(units=5,input_shape=(time_step,1),activation='relu'))\n",
    "\n",
    "#output layer\n",
    "model.add(Dense(units=1,activation='linear')) # 线性回归模型，预测是价格，连续型变量\n",
    "\n",
    "model.compile(optimizer='adam',loss='mean_squared_error')\n",
    "model.summary()"
   ]
  },
  {
   "cell_type": "code",
   "execution_count": 10,
   "metadata": {},
   "outputs": [
    {
     "name": "stdout",
     "output_type": "stream",
     "text": [
      "Epoch 1/200\n",
      "27/27 [==============================] - 0s 12ms/step - loss: 2.2151\n",
      "Epoch 2/200\n",
      "27/27 [==============================] - 0s 165us/step - loss: 2.1943\n",
      "Epoch 3/200\n",
      "27/27 [==============================] - 0s 202us/step - loss: 2.1765\n",
      "Epoch 4/200\n",
      "27/27 [==============================] - 0s 202us/step - loss: 2.1577\n",
      "Epoch 5/200\n",
      "27/27 [==============================] - 0s 147us/step - loss: 2.1384\n",
      "Epoch 6/200\n",
      "27/27 [==============================] - 0s 110us/step - loss: 2.1188\n",
      "Epoch 7/200\n",
      "27/27 [==============================] - 0s 92us/step - loss: 2.0991\n",
      "Epoch 8/200\n",
      "27/27 [==============================] - 0s 92us/step - loss: 2.0793\n",
      "Epoch 9/200\n",
      "27/27 [==============================] - 0s 74us/step - loss: 2.0595\n",
      "Epoch 10/200\n",
      "27/27 [==============================] - 0s 73us/step - loss: 2.0397\n",
      "Epoch 11/200\n",
      "27/27 [==============================] - 0s 92us/step - loss: 2.0200\n",
      "Epoch 12/200\n",
      "27/27 [==============================] - 0s 73us/step - loss: 2.0003\n",
      "Epoch 13/200\n",
      "27/27 [==============================] - 0s 92us/step - loss: 1.9806\n",
      "Epoch 14/200\n",
      "27/27 [==============================] - 0s 165us/step - loss: 1.9611\n",
      "Epoch 15/200\n",
      "27/27 [==============================] - 0s 92us/step - loss: 1.9416\n",
      "Epoch 16/200\n",
      "27/27 [==============================] - 0s 110us/step - loss: 1.9222\n",
      "Epoch 17/200\n",
      "27/27 [==============================] - 0s 73us/step - loss: 1.9030\n",
      "Epoch 18/200\n",
      "27/27 [==============================] - 0s 110us/step - loss: 1.8838\n",
      "Epoch 19/200\n",
      "27/27 [==============================] - 0s 110us/step - loss: 1.8647\n",
      "Epoch 20/200\n",
      "27/27 [==============================] - 0s 73us/step - loss: 1.8457\n",
      "Epoch 21/200\n",
      "27/27 [==============================] - 0s 92us/step - loss: 1.8269\n",
      "Epoch 22/200\n",
      "27/27 [==============================] - 0s 184us/step - loss: 1.8081\n",
      "Epoch 23/200\n",
      "27/27 [==============================] - 0s 92us/step - loss: 1.7896\n",
      "Epoch 24/200\n",
      "27/27 [==============================] - 0s 110us/step - loss: 1.7710\n",
      "Epoch 25/200\n",
      "27/27 [==============================] - 0s 129us/step - loss: 1.7524\n",
      "Epoch 26/200\n",
      "27/27 [==============================] - 0s 92us/step - loss: 1.7339\n",
      "Epoch 27/200\n",
      "27/27 [==============================] - 0s 92us/step - loss: 1.7154\n",
      "Epoch 28/200\n",
      "27/27 [==============================] - 0s 92us/step - loss: 1.6968\n",
      "Epoch 29/200\n",
      "27/27 [==============================] - 0s 92us/step - loss: 1.6783\n",
      "Epoch 30/200\n",
      "27/27 [==============================] - 0s 129us/step - loss: 1.6598\n",
      "Epoch 31/200\n",
      "27/27 [==============================] - 0s 165us/step - loss: 1.6414\n",
      "Epoch 32/200\n",
      "27/27 [==============================] - 0s 73us/step - loss: 1.6232\n",
      "Epoch 33/200\n",
      "27/27 [==============================] - 0s 110us/step - loss: 1.6049\n",
      "Epoch 34/200\n",
      "27/27 [==============================] - 0s 110us/step - loss: 1.5867\n",
      "Epoch 35/200\n",
      "27/27 [==============================] - 0s 92us/step - loss: 1.5685\n",
      "Epoch 36/200\n",
      "27/27 [==============================] - 0s 73us/step - loss: 1.5504\n",
      "Epoch 37/200\n",
      "27/27 [==============================] - 0s 221us/step - loss: 1.5325\n",
      "Epoch 38/200\n",
      "27/27 [==============================] - 0s 92us/step - loss: 1.5146\n",
      "Epoch 39/200\n",
      "27/27 [==============================] - 0s 92us/step - loss: 1.4968\n",
      "Epoch 40/200\n",
      "27/27 [==============================] - 0s 147us/step - loss: 1.4791\n",
      "Epoch 41/200\n",
      "27/27 [==============================] - 0s 110us/step - loss: 1.4615\n",
      "Epoch 42/200\n",
      "27/27 [==============================] - 0s 92us/step - loss: 1.4440\n",
      "Epoch 43/200\n",
      "27/27 [==============================] - 0s 73us/step - loss: 1.4266\n",
      "Epoch 44/200\n",
      "27/27 [==============================] - 0s 92us/step - loss: 1.4093\n",
      "Epoch 45/200\n",
      "27/27 [==============================] - 0s 110us/step - loss: 1.3921\n",
      "Epoch 46/200\n",
      "27/27 [==============================] - 0s 92us/step - loss: 1.3750\n",
      "Epoch 47/200\n",
      "27/27 [==============================] - 0s 74us/step - loss: 1.3581\n",
      "Epoch 48/200\n",
      "27/27 [==============================] - 0s 110us/step - loss: 1.3414\n",
      "Epoch 49/200\n",
      "27/27 [==============================] - 0s 110us/step - loss: 1.3250\n",
      "Epoch 50/200\n",
      "27/27 [==============================] - 0s 92us/step - loss: 1.3088\n",
      "Epoch 51/200\n",
      "27/27 [==============================] - 0s 73us/step - loss: 1.2928\n",
      "Epoch 52/200\n",
      "27/27 [==============================] - 0s 92us/step - loss: 1.2768\n",
      "Epoch 53/200\n",
      "27/27 [==============================] - 0s 110us/step - loss: 1.2610\n",
      "Epoch 54/200\n",
      "27/27 [==============================] - 0s 92us/step - loss: 1.2453\n",
      "Epoch 55/200\n",
      "27/27 [==============================] - 0s 74us/step - loss: 1.2298\n",
      "Epoch 56/200\n",
      "27/27 [==============================] - 0s 55us/step - loss: 1.2143\n",
      "Epoch 57/200\n",
      "27/27 [==============================] - 0s 92us/step - loss: 1.1990\n",
      "Epoch 58/200\n",
      "27/27 [==============================] - 0s 73us/step - loss: 1.1838\n",
      "Epoch 59/200\n",
      "27/27 [==============================] - 0s 110us/step - loss: 1.1687\n",
      "Epoch 60/200\n",
      "27/27 [==============================] - 0s 92us/step - loss: 1.1537\n",
      "Epoch 61/200\n",
      "27/27 [==============================] - 0s 92us/step - loss: 1.1388\n",
      "Epoch 62/200\n",
      "27/27 [==============================] - 0s 110us/step - loss: 1.1240\n",
      "Epoch 63/200\n",
      "27/27 [==============================] - 0s 165us/step - loss: 1.1094\n",
      "Epoch 64/200\n",
      "27/27 [==============================] - 0s 147us/step - loss: 1.0948\n",
      "Epoch 65/200\n",
      "27/27 [==============================] - 0s 55us/step - loss: 1.0803\n",
      "Epoch 66/200\n",
      "27/27 [==============================] - 0s 92us/step - loss: 1.0660\n",
      "Epoch 67/200\n",
      "27/27 [==============================] - 0s 73us/step - loss: 1.0517\n",
      "Epoch 68/200\n",
      "27/27 [==============================] - 0s 110us/step - loss: 1.0376\n",
      "Epoch 69/200\n",
      "27/27 [==============================] - 0s 147us/step - loss: 1.0236\n",
      "Epoch 70/200\n",
      "27/27 [==============================] - 0s 73us/step - loss: 1.0096\n",
      "Epoch 71/200\n",
      "27/27 [==============================] - 0s 73us/step - loss: 0.9958\n",
      "Epoch 72/200\n",
      "27/27 [==============================] - 0s 110us/step - loss: 0.9821\n",
      "Epoch 73/200\n",
      "27/27 [==============================] - 0s 92us/step - loss: 0.9684\n",
      "Epoch 74/200\n",
      "27/27 [==============================] - 0s 110us/step - loss: 0.9549\n",
      "Epoch 75/200\n",
      "27/27 [==============================] - 0s 73us/step - loss: 0.9415\n",
      "Epoch 76/200\n",
      "27/27 [==============================] - 0s 73us/step - loss: 0.9281\n",
      "Epoch 77/200\n",
      "27/27 [==============================] - 0s 129us/step - loss: 0.9149\n",
      "Epoch 78/200\n",
      "27/27 [==============================] - 0s 110us/step - loss: 0.9018\n",
      "Epoch 79/200\n",
      "27/27 [==============================] - 0s 92us/step - loss: 0.8887\n",
      "Epoch 80/200\n",
      "27/27 [==============================] - 0s 129us/step - loss: 0.8758\n",
      "Epoch 81/200\n",
      "27/27 [==============================] - 0s 92us/step - loss: 0.8630\n",
      "Epoch 82/200\n",
      "27/27 [==============================] - 0s 147us/step - loss: 0.8503\n",
      "Epoch 83/200\n",
      "27/27 [==============================] - 0s 110us/step - loss: 0.8376\n",
      "Epoch 84/200\n",
      "27/27 [==============================] - 0s 73us/step - loss: 0.8251\n",
      "Epoch 85/200\n",
      "27/27 [==============================] - 0s 92us/step - loss: 0.8126\n",
      "Epoch 86/200\n",
      "27/27 [==============================] - 0s 92us/step - loss: 0.8003\n",
      "Epoch 87/200\n",
      "27/27 [==============================] - 0s 73us/step - loss: 0.7880\n",
      "Epoch 88/200\n",
      "27/27 [==============================] - 0s 129us/step - loss: 0.7759\n",
      "Epoch 89/200\n",
      "27/27 [==============================] - 0s 92us/step - loss: 0.7638\n",
      "Epoch 90/200\n",
      "27/27 [==============================] - 0s 147us/step - loss: 0.7519\n",
      "Epoch 91/200\n",
      "27/27 [==============================] - 0s 110us/step - loss: 0.7400\n",
      "Epoch 92/200\n",
      "27/27 [==============================] - 0s 73us/step - loss: 0.7282\n",
      "Epoch 93/200\n",
      "27/27 [==============================] - 0s 73us/step - loss: 0.7166\n",
      "Epoch 94/200\n",
      "27/27 [==============================] - 0s 92us/step - loss: 0.7050\n",
      "Epoch 95/200\n",
      "27/27 [==============================] - 0s 92us/step - loss: 0.6935\n",
      "Epoch 96/200\n",
      "27/27 [==============================] - 0s 92us/step - loss: 0.6822\n",
      "Epoch 97/200\n",
      "27/27 [==============================] - 0s 92us/step - loss: 0.6709\n",
      "Epoch 98/200\n",
      "27/27 [==============================] - 0s 74us/step - loss: 0.6597\n",
      "Epoch 99/200\n",
      "27/27 [==============================] - 0s 110us/step - loss: 0.6486\n",
      "Epoch 100/200\n",
      "27/27 [==============================] - 0s 92us/step - loss: 0.6376\n",
      "Epoch 101/200\n",
      "27/27 [==============================] - 0s 92us/step - loss: 0.6268\n",
      "Epoch 102/200\n",
      "27/27 [==============================] - 0s 110us/step - loss: 0.6161\n",
      "Epoch 103/200\n",
      "27/27 [==============================] - 0s 184us/step - loss: 0.6054\n",
      "Epoch 104/200\n",
      "27/27 [==============================] - 0s 92us/step - loss: 0.5949\n",
      "Epoch 105/200\n",
      "27/27 [==============================] - 0s 92us/step - loss: 0.5845\n",
      "Epoch 106/200\n",
      "27/27 [==============================] - 0s 92us/step - loss: 0.5741\n",
      "Epoch 107/200\n",
      "27/27 [==============================] - 0s 73us/step - loss: 0.5639\n",
      "Epoch 108/200\n",
      "27/27 [==============================] - 0s 73us/step - loss: 0.5537\n",
      "Epoch 109/200\n",
      "27/27 [==============================] - 0s 73us/step - loss: 0.5437\n",
      "Epoch 110/200\n",
      "27/27 [==============================] - 0s 73us/step - loss: 0.5337\n",
      "Epoch 111/200\n",
      "27/27 [==============================] - 0s 110us/step - loss: 0.5238\n",
      "Epoch 112/200\n",
      "27/27 [==============================] - 0s 73us/step - loss: 0.5141\n",
      "Epoch 113/200\n",
      "27/27 [==============================] - 0s 110us/step - loss: 0.5044\n",
      "Epoch 114/200\n",
      "27/27 [==============================] - 0s 129us/step - loss: 0.4954\n",
      "Epoch 115/200\n",
      "27/27 [==============================] - 0s 92us/step - loss: 0.4871\n",
      "Epoch 116/200\n",
      "27/27 [==============================] - 0s 92us/step - loss: 0.4800\n",
      "Epoch 117/200\n",
      "27/27 [==============================] - 0s 73us/step - loss: 0.4741\n",
      "Epoch 118/200\n",
      "27/27 [==============================] - 0s 92us/step - loss: 0.4691\n",
      "Epoch 119/200\n",
      "27/27 [==============================] - 0s 92us/step - loss: 0.4651\n",
      "Epoch 120/200\n",
      "27/27 [==============================] - 0s 92us/step - loss: 0.4613\n",
      "Epoch 121/200\n",
      "27/27 [==============================] - 0s 73us/step - loss: 0.4575\n",
      "Epoch 122/200\n",
      "27/27 [==============================] - 0s 110us/step - loss: 0.4538\n",
      "Epoch 123/200\n",
      "27/27 [==============================] - 0s 73us/step - loss: 0.4502\n",
      "Epoch 124/200\n",
      "27/27 [==============================] - 0s 92us/step - loss: 0.4465\n",
      "Epoch 125/200\n",
      "27/27 [==============================] - 0s 73us/step - loss: 0.4428\n",
      "Epoch 126/200\n",
      "27/27 [==============================] - 0s 129us/step - loss: 0.4390\n",
      "Epoch 127/200\n",
      "27/27 [==============================] - 0s 92us/step - loss: 0.4353\n",
      "Epoch 128/200\n",
      "27/27 [==============================] - 0s 74us/step - loss: 0.4316\n",
      "Epoch 129/200\n",
      "27/27 [==============================] - 0s 110us/step - loss: 0.4279\n",
      "Epoch 130/200\n",
      "27/27 [==============================] - 0s 73us/step - loss: 0.4242\n",
      "Epoch 131/200\n",
      "27/27 [==============================] - 0s 74us/step - loss: 0.4205\n",
      "Epoch 132/200\n",
      "27/27 [==============================] - 0s 74us/step - loss: 0.4168\n",
      "Epoch 133/200\n",
      "27/27 [==============================] - 0s 73us/step - loss: 0.4131\n",
      "Epoch 134/200\n",
      "27/27 [==============================] - 0s 73us/step - loss: 0.4094\n",
      "Epoch 135/200\n",
      "27/27 [==============================] - 0s 294us/step - loss: 0.4057\n",
      "Epoch 136/200\n",
      "27/27 [==============================] - 0s 92us/step - loss: 0.4020\n",
      "Epoch 137/200\n",
      "27/27 [==============================] - 0s 74us/step - loss: 0.3984\n",
      "Epoch 138/200\n",
      "27/27 [==============================] - 0s 92us/step - loss: 0.3947\n",
      "Epoch 139/200\n",
      "27/27 [==============================] - 0s 129us/step - loss: 0.3911\n",
      "Epoch 140/200\n",
      "27/27 [==============================] - 0s 73us/step - loss: 0.3875\n",
      "Epoch 141/200\n",
      "27/27 [==============================] - 0s 73us/step - loss: 0.3839\n",
      "Epoch 142/200\n",
      "27/27 [==============================] - 0s 73us/step - loss: 0.3803\n",
      "Epoch 143/200\n",
      "27/27 [==============================] - 0s 73us/step - loss: 0.3768\n",
      "Epoch 144/200\n",
      "27/27 [==============================] - 0s 92us/step - loss: 0.3733\n",
      "Epoch 145/200\n",
      "27/27 [==============================] - 0s 73us/step - loss: 0.3697\n",
      "Epoch 146/200\n",
      "27/27 [==============================] - 0s 73us/step - loss: 0.3662\n",
      "Epoch 147/200\n",
      "27/27 [==============================] - 0s 55us/step - loss: 0.3628\n",
      "Epoch 148/200\n",
      "27/27 [==============================] - 0s 147us/step - loss: 0.3593\n",
      "Epoch 149/200\n",
      "27/27 [==============================] - 0s 73us/step - loss: 0.3558\n",
      "Epoch 150/200\n",
      "27/27 [==============================] - 0s 92us/step - loss: 0.3524\n",
      "Epoch 151/200\n",
      "27/27 [==============================] - 0s 74us/step - loss: 0.3490\n",
      "Epoch 152/200\n",
      "27/27 [==============================] - 0s 92us/step - loss: 0.3456\n",
      "Epoch 153/200\n",
      "27/27 [==============================] - 0s 73us/step - loss: 0.3422\n",
      "Epoch 154/200\n",
      "27/27 [==============================] - 0s 55us/step - loss: 0.3389\n",
      "Epoch 155/200\n",
      "27/27 [==============================] - 0s 92us/step - loss: 0.3356\n",
      "Epoch 156/200\n",
      "27/27 [==============================] - 0s 129us/step - loss: 0.3322\n",
      "Epoch 157/200\n",
      "27/27 [==============================] - 0s 73us/step - loss: 0.3289\n",
      "Epoch 158/200\n",
      "27/27 [==============================] - 0s 73us/step - loss: 0.3257\n",
      "Epoch 159/200\n",
      "27/27 [==============================] - 0s 74us/step - loss: 0.3224\n",
      "Epoch 160/200\n",
      "27/27 [==============================] - 0s 73us/step - loss: 0.3192\n",
      "Epoch 161/200\n",
      "27/27 [==============================] - 0s 92us/step - loss: 0.3160\n",
      "Epoch 162/200\n",
      "27/27 [==============================] - 0s 74us/step - loss: 0.3127\n",
      "Epoch 163/200\n",
      "27/27 [==============================] - 0s 55us/step - loss: 0.3096\n",
      "Epoch 164/200\n",
      "27/27 [==============================] - 0s 92us/step - loss: 0.3064\n",
      "Epoch 165/200\n",
      "27/27 [==============================] - 0s 129us/step - loss: 0.3033\n",
      "Epoch 166/200\n",
      "27/27 [==============================] - 0s 73us/step - loss: 0.3001\n",
      "Epoch 167/200\n",
      "27/27 [==============================] - 0s 92us/step - loss: 0.2970\n",
      "Epoch 168/200\n",
      "27/27 [==============================] - 0s 92us/step - loss: 0.2939\n",
      "Epoch 169/200\n",
      "27/27 [==============================] - 0s 92us/step - loss: 0.2909\n",
      "Epoch 170/200\n",
      "27/27 [==============================] - 0s 73us/step - loss: 0.2878\n",
      "Epoch 171/200\n",
      "27/27 [==============================] - 0s 73us/step - loss: 0.2848\n",
      "Epoch 172/200\n",
      "27/27 [==============================] - 0s 92us/step - loss: 0.2818\n",
      "Epoch 173/200\n",
      "27/27 [==============================] - 0s 73us/step - loss: 0.2788\n",
      "Epoch 174/200\n",
      "27/27 [==============================] - 0s 73us/step - loss: 0.2758\n",
      "Epoch 175/200\n",
      "27/27 [==============================] - 0s 92us/step - loss: 0.2729\n",
      "Epoch 176/200\n",
      "27/27 [==============================] - 0s 92us/step - loss: 0.2699\n",
      "Epoch 177/200\n",
      "27/27 [==============================] - 0s 92us/step - loss: 0.2670\n",
      "Epoch 178/200\n",
      "27/27 [==============================] - 0s 74us/step - loss: 0.2641\n",
      "Epoch 179/200\n",
      "27/27 [==============================] - 0s 129us/step - loss: 0.2612\n",
      "Epoch 180/200\n",
      "27/27 [==============================] - 0s 73us/step - loss: 0.2583\n",
      "Epoch 181/200\n",
      "27/27 [==============================] - 0s 73us/step - loss: 0.2555\n",
      "Epoch 182/200\n",
      "27/27 [==============================] - 0s 92us/step - loss: 0.2527\n",
      "Epoch 183/200\n",
      "27/27 [==============================] - 0s 110us/step - loss: 0.2498\n",
      "Epoch 184/200\n",
      "27/27 [==============================] - 0s 92us/step - loss: 0.2471\n",
      "Epoch 185/200\n",
      "27/27 [==============================] - 0s 92us/step - loss: 0.2443\n",
      "Epoch 186/200\n",
      "27/27 [==============================] - 0s 55us/step - loss: 0.2415\n",
      "Epoch 187/200\n",
      "27/27 [==============================] - 0s 129us/step - loss: 0.2388\n",
      "Epoch 188/200\n",
      "27/27 [==============================] - 0s 92us/step - loss: 0.2360\n",
      "Epoch 189/200\n",
      "27/27 [==============================] - 0s 129us/step - loss: 0.2333\n",
      "Epoch 190/200\n",
      "27/27 [==============================] - 0s 73us/step - loss: 0.2306\n",
      "Epoch 191/200\n",
      "27/27 [==============================] - 0s 92us/step - loss: 0.2280\n",
      "Epoch 192/200\n",
      "27/27 [==============================] - 0s 147us/step - loss: 0.2253\n",
      "Epoch 193/200\n",
      "27/27 [==============================] - 0s 92us/step - loss: 0.2227\n",
      "Epoch 194/200\n",
      "27/27 [==============================] - 0s 73us/step - loss: 0.2201\n",
      "Epoch 195/200\n",
      "27/27 [==============================] - 0s 92us/step - loss: 0.2175\n",
      "Epoch 196/200\n",
      "27/27 [==============================] - 0s 110us/step - loss: 0.2149\n",
      "Epoch 197/200\n",
      "27/27 [==============================] - 0s 73us/step - loss: 0.2123\n",
      "Epoch 198/200\n",
      "27/27 [==============================] - 0s 110us/step - loss: 0.2098\n",
      "Epoch 199/200\n",
      "27/27 [==============================] - 0s 92us/step - loss: 0.2072\n",
      "Epoch 200/200\n",
      "27/27 [==============================] - 0s 110us/step - loss: 0.2047\n"
     ]
    },
    {
     "data": {
      "text/plain": [
       "<keras.callbacks.callbacks.History at 0x26aa8781278>"
      ]
     },
     "execution_count": 10,
     "metadata": {},
     "output_type": "execute_result"
    }
   ],
   "source": [
    "model.fit(X,y,batch_size=30,epochs=200)"
   ]
  },
  {
   "cell_type": "code",
   "execution_count": 11,
   "metadata": {},
   "outputs": [],
   "source": [
    "y_train_predict=model.predict(X)*max(price)\n",
    "y_train=[i *max(price) for i in y]\n"
   ]
  },
  {
   "cell_type": "code",
   "execution_count": 12,
   "metadata": {},
   "outputs": [
    {
     "data": {
      "text/plain": [
       "array([[1833.9144],\n",
       "       [1837.8042],\n",
       "       [1853.917 ],\n",
       "       [1838.9813],\n",
       "       [1834.9342],\n",
       "       [1842.8654],\n",
       "       [1844.7191],\n",
       "       [1832.2977],\n",
       "       [1877.9264],\n",
       "       [1845.6075],\n",
       "       [1864.9674],\n",
       "       [1860.1166],\n",
       "       [1843.3063],\n",
       "       [1851.7094],\n",
       "       [1827.0454],\n",
       "       [1841.995 ],\n",
       "       [1818.299 ],\n",
       "       [1842.5682],\n",
       "       [1826.1023],\n",
       "       [1837.4536],\n",
       "       [1851.617 ],\n",
       "       [1834.019 ],\n",
       "       [1861.8512],\n",
       "       [1816.1583],\n",
       "       [1858.4053],\n",
       "       [1816.3556],\n",
       "       [1854.3528]], dtype=float32)"
      ]
     },
     "execution_count": 12,
     "metadata": {},
     "output_type": "execute_result"
    }
   ],
   "source": [
    "y_train_predict"
   ]
  },
  {
   "cell_type": "code",
   "execution_count": 13,
   "metadata": {},
   "outputs": [
    {
     "data": {
      "text/plain": [
       "(27, 1)"
      ]
     },
     "execution_count": 13,
     "metadata": {},
     "output_type": "execute_result"
    }
   ],
   "source": [
    "y_train_predict.shape\n",
    "# print(y[-5:])\n",
    "# print(X[-1])\n",
    "# p=model.predict(list(y[-5:]))*max(price)\n",
    "# print(p)"
   ]
  },
  {
   "cell_type": "code",
   "execution_count": 14,
   "metadata": {},
   "outputs": [
    {
     "data": {
      "image/png": "[encoded data removed]",
      "text/plain": [
       "<Figure size 576x360 with 1 Axes>"
      ]
     },
     "metadata": {},
     "output_type": "display_data"
    }
   ],
   "source": [
    "fig2 = plt.figure(figsize=(8,5))\n",
    "plt.plot(y_train,label='real price')\n",
    "plt.plot(y_train_predict,label='predict price')\n",
    "plt.title('close price')\n",
    "plt.xlabel('time')\n",
    "plt.ylabel('price')\n",
    "plt.legend()\n",
    "plt.show()"
   ]
  },
  {
   "cell_type": "code",
   "execution_count": 59,
   "metadata": {},
   "outputs": [
    {
     "name": "stdout",
     "output_type": "stream",
     "text": [
      "(177, 5, 1) 177\n"
     ]
    }
   ],
   "source": [
    "data_test = pd.read_csv('zgpa_test.csv')\n",
    "data_test.head()\n",
    "price_test = data_test.loc[:,'close']\n",
    "price_test.head()\n",
    "price_test_norm = price_test/max(price)\n",
    "X_test_norm,y_test_norm=extract_data(price_test_norm,time_step)\n",
    "print(X_test_norm.shape,len(y_test_norm))"
   ]
  },
  {
   "cell_type": "code",
   "execution_count": 75,
   "metadata": {},
   "outputs": [
    {
     "name": "stdout",
     "output_type": "stream",
     "text": [
      "(6, 5, 1) 6\n"
     ]
    }
   ],
   "source": [
    "data_test = pd.read_csv('555.csv')\n",
    "data_test.head()\n",
    "price_test = data_test.loc[:,'close']\n",
    "price_test.head()\n",
    "price_test_norm = price_test/max(price)\n",
    "X_test_norm,y_test_norm=extract_data(price_test_norm,time_step)\n",
    "print(X_test_norm.shape,len(y_test_norm))"
   ]
  },
  {
   "cell_type": "code",
   "execution_count": 76,
   "metadata": {},
   "outputs": [
    {
     "data": {
      "text/html": [
       "<div>\n",
       "<style scoped>\n",
       "    .dataframe tbody tr th:only-of-type {\n",
       "        vertical-align: middle;\n",
       "    }\n",
       "\n",
       "    .dataframe tbody tr th {\n",
       "        vertical-align: top;\n",
       "    }\n",
       "\n",
       "    .dataframe thead th {\n",
       "        text-align: right;\n",
       "    }\n",
       "</style>\n",
       "<table border=\"1\" class=\"dataframe\">\n",
       "  <thead>\n",
       "    <tr style=\"text-align: right;\">\n",
       "      <th></th>\n",
       "      <th>close</th>\n",
       "    </tr>\n",
       "  </thead>\n",
       "  <tbody>\n",
       "    <tr>\n",
       "      <th>6</th>\n",
       "      <td>3363.11</td>\n",
       "    </tr>\n",
       "    <tr>\n",
       "      <th>7</th>\n",
       "      <td>3396.56</td>\n",
       "    </tr>\n",
       "    <tr>\n",
       "      <th>8</th>\n",
       "      <td>3397.29</td>\n",
       "    </tr>\n",
       "    <tr>\n",
       "      <th>9</th>\n",
       "      <td>3200.00</td>\n",
       "    </tr>\n",
       "    <tr>\n",
       "      <th>10</th>\n",
       "      <td>3300.00</td>\n",
       "    </tr>\n",
       "  </tbody>\n",
       "</table>\n",
       "</div>"
      ],
      "text/plain": [
       "      close\n",
       "6   3363.11\n",
       "7   3396.56\n",
       "8   3397.29\n",
       "9   3200.00\n",
       "10  3300.00"
      ]
     },
     "execution_count": 76,
     "metadata": {},
     "output_type": "execute_result"
    }
   ],
   "source": [
    "data_test.tail()"
   ]
  },
  {
   "cell_type": "code",
   "execution_count": 77,
   "metadata": {},
   "outputs": [
    {
     "data": {
      "text/plain": [
       "array([[[0.97538775],\n",
       "        [0.98636419],\n",
       "        [0.98347596],\n",
       "        [0.99091236],\n",
       "        [0.97243289]],\n",
       "\n",
       "       [[0.98636419],\n",
       "        [0.98347596],\n",
       "        [0.99091236],\n",
       "        [0.97243289],\n",
       "        [0.97983163]],\n",
       "\n",
       "       [[0.98347596],\n",
       "        [0.99091236],\n",
       "        [0.97243289],\n",
       "        [0.97983163],\n",
       "        [0.97426664]],\n",
       "\n",
       "       [[0.99091236],\n",
       "        [0.97243289],\n",
       "        [0.97983163],\n",
       "        [0.97426664],\n",
       "        [0.98395685]],\n",
       "\n",
       "       [[0.97243289],\n",
       "        [0.97983163],\n",
       "        [0.97426664],\n",
       "        [0.98395685],\n",
       "        [0.98416832]],\n",
       "\n",
       "       [[0.97983163],\n",
       "        [0.97426664],\n",
       "        [0.98395685],\n",
       "        [0.98416832],\n",
       "        [0.92701495]]])"
      ]
     },
     "execution_count": 77,
     "metadata": {},
     "output_type": "execute_result"
    }
   ],
   "source": [
    "X_test_norm"
   ]
  },
  {
   "cell_type": "code",
   "execution_count": 78,
   "metadata": {},
   "outputs": [
    {
     "data": {
      "text/plain": [
       "array([[3378.5674],\n",
       "       [3377.6165],\n",
       "       [3370.7053],\n",
       "       [3386.5137],\n",
       "       [3398.5754],\n",
       "       [3261.3176]], dtype=float32)"
      ]
     },
     "execution_count": 78,
     "metadata": {},
     "output_type": "execute_result"
    }
   ],
   "source": [
    "y_test_predict=model.predict(X_test_norm)*max(price)\n",
    "y_test=[i *max(price) for i in y_test_norm]\n",
    "y_test_predict"
   ]
  },
  {
   "cell_type": "code",
   "execution_count": 25,
   "metadata": {},
   "outputs": [
    {
     "data": {
      "image/png": "[encoded data removed]",
      "text/plain": [
       "<Figure size 576x360 with 1 Axes>"
      ]
     },
     "metadata": {},
     "output_type": "display_data"
    }
   ],
   "source": [
    "fig3 = plt.figure(figsize=(8,5))\n",
    "plt.plot(y_test,label='real price_test')\n",
    "plt.plot(y_test_predict,label='predict price_test')\n",
    "plt.title('close price')\n",
    "plt.xlabel('time')\n",
    "plt.ylabel('price')\n",
    "plt.legend()\n",
    "plt.show()"
   ]
  },
  {
   "cell_type": "code",
   "execution_count": null,
   "metadata": {},
   "outputs": [],
   "source": []
  },
  {
   "cell_type": "code",
   "execution_count": null,
   "metadata": {},
   "outputs": [],
   "source": []
  },
  {
   "cell_type": "code",
   "execution_count": null,
   "metadata": {},
   "outputs": [],
   "source": []
  },
  {
   "cell_type": "code",
   "execution_count": null,
   "metadata": {},
   "outputs": [],
   "source": []
  },
  {
   "cell_type": "code",
   "execution_count": null,
   "metadata": {},
   "outputs": [],
   "source": []
  }
 ],
 "metadata": {
  "kernelspec": {
   "display_name": "Python 3",
   "language": "python",
   "name": "python3"
  },
  "language_info": {
   "codemirror_mode": {
    "name": "ipython",
    "version": 3
   },
   "file_extension": ".py",
   "mimetype": "text/x-python",
   "name": "python",
   "nbconvert_exporter": "python",
   "pygments_lexer": "ipython3",
   "version": "3.6.5"
  }
 },
 "nbformat": 4,
 "nbformat_minor": 2
}
